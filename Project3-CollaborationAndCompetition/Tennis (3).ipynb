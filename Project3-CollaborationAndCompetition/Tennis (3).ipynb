{
 "cells": [
  {
   "cell_type": "markdown",
   "metadata": {},
   "source": [
    "# Collaboration and Competition\n",
    "\n",
    "---\n",
    "\n",
    "In this notebook, you will learn how to use the Unity ML-Agents environment for the third project of the [Deep Reinforcement Learning Nanodegree](https://www.udacity.com/course/deep-reinforcement-learning-nanodegree--nd893) program.\n",
    "\n",
    "### 1. Start the Environment\n",
    "\n",
    "We begin by importing the necessary packages.  If the code cell below returns an error, please revisit the project instructions to double-check that you have installed [Unity ML-Agents](https://github.com/Unity-Technologies/ml-agents/blob/master/docs/Installation.md) and [NumPy](http://www.numpy.org/)."
   ]
  },
  {
   "cell_type": "code",
   "execution_count": 1,
   "metadata": {},
   "outputs": [
    {
     "name": "stdout",
     "output_type": "stream",
     "text": [
      "3.6.13 |Anaconda, Inc.| (default, Jun  4 2021, 14:25:59) \n",
      "[GCC 7.5.0]\n"
     ]
    }
   ],
   "source": [
    "from unityagents import UnityEnvironment\n",
    "import numpy as np\n",
    "from collections import namedtuple, deque\n",
    "import torch\n",
    "\n",
    "from ddpg_agent import Agent\n",
    "\n",
    "import sys\n",
    "print (sys.version) # Python Version"
   ]
  },
  {
   "cell_type": "markdown",
   "metadata": {},
   "source": [
    "Next, we will start the environment!  **_Before running the code cell below_**, change the `file_name` parameter to match the location of the Unity environment that you downloaded.\n",
    "\n",
    "- **Mac**: `\"path/to/Tennis.app\"`\n",
    "- **Windows** (x86): `\"path/to/Tennis_Windows_x86/Tennis.exe\"`\n",
    "- **Windows** (x86_64): `\"path/to/Tennis_Windows_x86_64/Tennis.exe\"`\n",
    "- **Linux** (x86): `\"path/to/Tennis_Linux/Tennis.x86\"`\n",
    "- **Linux** (x86_64): `\"path/to/Tennis_Linux/Tennis.x86_64\"`\n",
    "- **Linux** (x86, headless): `\"path/to/Tennis_Linux_NoVis/Tennis.x86\"`\n",
    "- **Linux** (x86_64, headless): `\"path/to/Tennis_Linux_NoVis/Tennis.x86_64\"`\n",
    "\n",
    "For instance, if you are using a Mac, then you downloaded `Tennis.app`.  If this file is in the same folder as the notebook, then the line below should appear as follows:\n",
    "```\n",
    "env = UnityEnvironment(file_name=\"Tennis.app\")\n",
    "```"
   ]
  },
  {
   "cell_type": "code",
   "execution_count": 2,
   "metadata": {},
   "outputs": [
    {
     "name": "stderr",
     "output_type": "stream",
     "text": [
      "INFO:unityagents:\n",
      "'Academy' started successfully!\n",
      "Unity Academy name: Academy\n",
      "        Number of Brains: 1\n",
      "        Number of External Brains : 1\n",
      "        Lesson number : 0\n",
      "        Reset Parameters :\n",
      "\t\t\n",
      "Unity brain name: TennisBrain\n",
      "        Number of Visual Observations (per agent): 0\n",
      "        Vector Observation space type: continuous\n",
      "        Vector Observation space size (per agent): 8\n",
      "        Number of stacked Vector Observation: 3\n",
      "        Vector Action space type: continuous\n",
      "        Vector Action space size (per agent): 2\n",
      "        Vector Action descriptions: , \n"
     ]
    }
   ],
   "source": [
    "env = UnityEnvironment(file_name=\"./Tennis_Linux/Tennis.x86_64\")"
   ]
  },
  {
   "cell_type": "markdown",
   "metadata": {},
   "source": [
    "Environments contain **_brains_** which are responsible for deciding the actions of their associated agents. Here we check for the first brain available, and set it as the default brain we will be controlling from Python."
   ]
  },
  {
   "cell_type": "code",
   "execution_count": 3,
   "metadata": {},
   "outputs": [],
   "source": [
    "# get the default brain\n",
    "brain_name = env.brain_names[0]\n",
    "brain = env.brains[brain_name]"
   ]
  },
  {
   "cell_type": "markdown",
   "metadata": {},
   "source": [
    "### 2. Examine the State and Action Spaces\n",
    "\n",
    "In this environment, two agents control rackets to bounce a ball over a net. If an agent hits the ball over the net, it receives a reward of +0.1.  If an agent lets a ball hit the ground or hits the ball out of bounds, it receives a reward of -0.01.  Thus, the goal of each agent is to keep the ball in play.\n",
    "\n",
    "The observation space consists of 8 variables corresponding to the position and velocity of the ball and racket. Two continuous actions are available, corresponding to movement toward (or away from) the net, and jumping. \n",
    "\n",
    "Run the code cell below to print some information about the environment."
   ]
  },
  {
   "cell_type": "code",
   "execution_count": 4,
   "metadata": {},
   "outputs": [
    {
     "name": "stdout",
     "output_type": "stream",
     "text": [
      "Number of agents: 2\n",
      "Size of each action: 2\n",
      "There are 2 agents. Each observes a state with length: 24\n",
      "The state for the first agent looks like: [ 0.          0.          0.          0.          0.          0.\n",
      "  0.          0.          0.          0.          0.          0.\n",
      "  0.          0.          0.          0.         -6.65278625 -1.5\n",
      " -0.          0.          6.83172083  6.         -0.          0.        ]\n",
      "The state for the second agent looks like: [ 0.          0.          0.          0.          0.          0.\n",
      "  0.          0.          0.          0.          0.          0.\n",
      "  0.          0.          0.          0.         -6.4669857  -1.5\n",
      "  0.          0.         -6.83172083  6.          0.          0.        ]\n"
     ]
    }
   ],
   "source": [
    "# reset the environment\n",
    "env_info = env.reset(train_mode=True)[brain_name]\n",
    "\n",
    "# number of agents \n",
    "num_agents = len(env_info.agents)\n",
    "print('Number of agents:', num_agents)\n",
    "\n",
    "# size of each action\n",
    "action_size = brain.vector_action_space_size\n",
    "print('Size of each action:', action_size)\n",
    "\n",
    "# examine the state space \n",
    "states = env_info.vector_observations\n",
    "state_size = states.shape[1]\n",
    "print('There are {} agents. Each observes a state with length: {}'.format(states.shape[0], state_size))\n",
    "print('The state for the first agent looks like:', states[0])\n",
    "print('The state for the second agent looks like:', states[1])"
   ]
  },
  {
   "cell_type": "markdown",
   "metadata": {},
   "source": [
    "### 3. Take Random Actions in the Environment\n",
    "\n",
    "In the next code cell, you will learn how to use the Python API to control the agents and receive feedback from the environment.\n",
    "\n",
    "Once this cell is executed, you will watch the agents' performance, if they select actions at random with each time step.  A window should pop up that allows you to observe the agents.\n",
    "\n",
    "Of course, as part of the project, you'll have to change the code so that the agents are able to use their experiences to gradually choose better actions when interacting with the environment!"
   ]
  },
  {
   "cell_type": "code",
   "execution_count": 5,
   "metadata": {},
   "outputs": [
    {
     "name": "stdout",
     "output_type": "stream",
     "text": [
      "Score (max over agents) from episode 1: 0.0\n",
      "Score (max over agents) from episode 2: 0.0\n",
      "Score (max over agents) from episode 3: 0.0\n",
      "Score (max over agents) from episode 4: 0.0\n",
      "Score (max over agents) from episode 5: 0.0\n"
     ]
    }
   ],
   "source": [
    "def randomActions(numEpisodes = 5):\n",
    "    for i in range(1, numEpisodes+1):                                      # play game for 5 episodes\n",
    "        env_info = env.reset(train_mode=False)[brain_name]     # reset the environment    \n",
    "        states = env_info.vector_observations                  # get the current state (for each agent)\n",
    "        scores = np.zeros(num_agents)                          # initialize the score (for each agent)\n",
    "        while True:\n",
    "            actions = np.random.randn(num_agents, action_size) # select an action (for each agent)\n",
    "            actions = np.clip(actions, -1, 1)                  # all actions between -1 and 1\n",
    "            env_info = env.step(actions)[brain_name]           # send all actions to tne environment\n",
    "            next_states = env_info.vector_observations         # get next state (for each agent)\n",
    "            rewards = env_info.rewards                         # get reward (for each agent)\n",
    "            dones = env_info.local_done                        # see if episode finished\n",
    "            scores += env_info.rewards                         # update the score (for each agent)\n",
    "            states = next_states                               # roll over states to next time step\n",
    "            if np.any(dones):                                  # exit loop if episode finished\n",
    "                break\n",
    "        print('Score (max over agents) from episode {}: {}'.format(i, np.max(scores)))\n",
    "randomActions(numEpisodes=5)"
   ]
  },
  {
   "cell_type": "markdown",
   "metadata": {},
   "source": [
    "## Runner"
   ]
  },
  {
   "cell_type": "code",
   "execution_count": 6,
   "metadata": {},
   "outputs": [],
   "source": [
    "def runner(agent, n_episodes=2000, max_t=1000, score_obj=0.5):\n",
    "    \"\"\"DDPG.\n",
    "    \n",
    "    Params\n",
    "    ======\n",
    "        agent (Agent): self plays against himself to learn, when portraying as a different player it will have a different observation\n",
    "        n_episodes (int): maximum number of training episodes\n",
    "        max_t (int): maximum number of timesteps per episode\n",
    "        score_obj (int): score objective to stop at when average is reached and save model\n",
    "    \"\"\"\n",
    "    scores = []                        # list containing scores from each episode\n",
    "    scores_window = deque(maxlen=100)  # last 100 scores              \n",
    "    exit = False\n",
    "    for i_episode in range(1, n_episodes+1):\n",
    "        # reset the environment\n",
    "        env_info = env.reset(train_mode=True)[brain_name]\n",
    "        states = env_info.vector_observations\n",
    "        scores_episode = [0,0]\n",
    "        agent.next_episode(i_episode)\n",
    "        for t in range(max_t):\n",
    "            action0 = agent.act(states[0])\n",
    "            action1 = agent.act(states[1])\n",
    "            actions = [action0,action1]\n",
    "            env_info = env.step(actions)[brain_name]\n",
    "            next_states = env_info.vector_observations   # get the next state\n",
    "            rewards = env_info.rewards                   # get the reward\n",
    "            dones = env_info.local_done\n",
    "            agent.step(states[0], actions[0], rewards[0], next_states[0], dones[0])\n",
    "            agent.step(states[1], actions[1], rewards[1], next_states[1], dones[1])\n",
    "            states = next_states\n",
    "            scores_episode = [sum(i) for i in zip(scores_episode, rewards)] \n",
    "            if dones[0] is True or dones[1] is True:\n",
    "                break \n",
    "        scores_window.append(max(scores_episode))       # save most recent score\n",
    "        scores.append(max(scores_episode))              # save most recent score\n",
    "        print('\\rEpisode {}\\tScore: {:.2f}'.format(i_episode, max(scores_episode)), end=\"\")\n",
    "        if i_episode % 100 == 0:\n",
    "            print('\\rEpisode {}\\tAverage Score: {:.2f}'.format(i_episode, np.mean(scores_window)))\n",
    "            #torch.save(agent, 'agent_checkpoint.pth')\n",
    "            #continueTrain = input('\\Do you want to continue? 0-Yes 1-No')\n",
    "            #if continueTrain == \"1\":\n",
    "                #exit = True\n",
    "        if np.mean(scores_window)>=score_obj or exit is True:\n",
    "            print('\\nEnvironment solved in {:d} episodes!\\tAverage Score: {:.2f}'.format(i_episode-100, np.mean(scores_window)))\n",
    "            #torch.save(agent.qnetwork_local.state_dict(), 'checkpoint.pth')\n",
    "            try:\n",
    "                torch.save(agent.actor_local.state_dict(), 'agent_checkpoints/actor_checkpoint.pth')\n",
    "                torch.save(agent.critic_local.state_dict(), 'agent_checkpoints/critic_checkpoint.pth')\n",
    "            except:\n",
    "                print(\"Saving of agents was not possible\")\n",
    "            #torch.save(agent, 'agent_checkpoint.pth')\n",
    "            '''\n",
    "            torch.save({\n",
    "            'i_episode': i_episode,\n",
    "            'actor_state_dict': agent.actor_local.state_dict(),\n",
    "            'actor_optimizer_state_dict': agent.actor_optimizer.state_dict(),\n",
    "            'actor_loss': agent.actor_loss,\n",
    "            'critic_state_dict': agent.critic_local,\n",
    "            'critic_optimizer_state_dict': agent.critic_optimizer.state_dict(),\n",
    "            'critic_loss': agent.critic_loss,\n",
    "            'replay_buffer': agent.memory.memory\n",
    "            }, 'agent.pth')\n",
    "            '''\n",
    "            break\n",
    "    return scores"
   ]
  },
  {
   "cell_type": "markdown",
   "metadata": {},
   "source": [
    "## Train Agent\n",
    "\n",
    "If the model achieves the desired goal it will save itself onto a file and the training will finish.\n",
    "\n",
    "To solve this enviroment only one Agent will be trained despite there being two players in-game, through the use of self play"
   ]
  },
  {
   "cell_type": "code",
   "execution_count": 7,
   "metadata": {},
   "outputs": [],
   "source": [
    "# Instantiate the Agent\n",
    "agent = Agent(state_size=state_size,action_size=action_size, random_seed=0, actor_fc1_units=64, actor_fc2_units=64,\n",
    "                critic_fc1_units=128, critic_fc2_units=128,\n",
    "                buffer_size=int(1e5), batch_size=128,\n",
    "                gamma=0.99, tau=1e-3 ,\n",
    "                lr_actor=1e-4, lr_critic=2e-4, weight_decay=0, batch_norm=True, add_ounoise=-1, dropout_prob=0.)"
   ]
  },
  {
   "cell_type": "code",
   "execution_count": 8,
   "metadata": {},
   "outputs": [
    {
     "name": "stdout",
     "output_type": "stream",
     "text": [
      "Training from the ground up with single agent enviroment...\n",
      "Episode 100\tAverage Score: 0.00\n",
      "Episode 200\tAverage Score: 0.01\n",
      "Episode 300\tAverage Score: 0.02\n",
      "Episode 400\tAverage Score: 0.05\n",
      "Episode 500\tAverage Score: 0.05\n",
      "Episode 600\tAverage Score: 0.09\n",
      "Episode 700\tAverage Score: 1.43\n",
      "Episode 800\tAverage Score: 1.18\n",
      "Episode 850\tScore: 2.70"
     ]
    }
   ],
   "source": [
    "#score_objective = float(input(\"What is the score average over 100 episodes that you want to achieve?\\n(Recommended a score of 0.5 when training a new network)\\n\"))\n",
    "print(\"Training from the ground up with single agent enviroment...\")\n",
    "scores = runner(agent, n_episodes=850, score_obj=2)"
   ]
  },
  {
   "cell_type": "code",
   "execution_count": 10,
   "metadata": {},
   "outputs": [
    {
     "data": {
      "image/png": "[encoded data removed]",
      "text/plain": [
       "<Figure size 432x288 with 1 Axes>"
      ]
     },
     "metadata": {
      "needs_background": "light"
     },
     "output_type": "display_data"
    }
   ],
   "source": [
    "import matplotlib.pyplot as plt\n",
    "scores_train = scores\n",
    "# get scores averages over x episodes\n",
    "averages_num = []\n",
    "averages_100 = []\n",
    "score_sum = 0\n",
    "score_sum_100 = 0\n",
    "i = 1\n",
    "x_episodes = 25\n",
    "for score in scores:\n",
    "    score_sum+=score\n",
    "    score_sum_100+=score\n",
    "    if i%x_episodes == 0:\n",
    "        score_sum = score_sum/x_episodes\n",
    "        for j in range(0,x_episodes):\n",
    "            averages_num.append(score_sum)\n",
    "        if i%100 == 0:\n",
    "            score_sum_100 = score_sum_100/100\n",
    "            for j in range(0,100):\n",
    "                averages_100.append(score_sum_100)\n",
    "            score_sum_100 = 0\n",
    "        score_sum=0\n",
    "    i+=1\n",
    "\n",
    "# plot the scores\n",
    "fig = plt.figure()\n",
    "ax = fig.add_subplot(111)\n",
    "plt.plot(np.arange(len(scores)), scores, label='Score per Episode')\n",
    "plt.plot(np.arange(len(averages_num)), averages_num, label='Avg Score Over ' +str(x_episodes)+ ' Episodes')\n",
    "plt.plot(np.arange(len(averages_100)), averages_100, label='Avg Score Over 100 Episodes')\n",
    "plt.ylabel('Score')\n",
    "plt.xlabel('Episode #')\n",
    "plt.legend()\n",
    "plt.show()"
   ]
  },
  {
   "cell_type": "code",
   "execution_count": 11,
   "metadata": {},
   "outputs": [],
   "source": [
    "torch.save(agent.actor_local.state_dict(), 'agent_checkpoints/actor_checkpoint.pth')\n",
    "torch.save(agent.critic_local.state_dict(), 'agent_checkpoints/critic_checkpoint.pth')"
   ]
  },
  {
   "cell_type": "markdown",
   "metadata": {},
   "source": [
    "## Test Agent"
   ]
  },
  {
   "cell_type": "code",
   "execution_count": 12,
   "metadata": {},
   "outputs": [
    {
     "name": "stdout",
     "output_type": "stream",
     "text": [
      "Using the current trained network. If no one has previously been trained agent will act randomly.\n",
      "Episode: 1 Score: 0.7000000104308128\n",
      "Episode: 2 Score: 0.7000000104308128\n",
      "Episode: 3 Score: 0.6000000089406967\n",
      "Episode: 4 Score: 1.4000000208616257\n",
      "Episode: 5 Score: 2.600000038743019\n",
      "Episode: 6 Score: 2.400000035762787\n",
      "Episode: 7 Score: 0.5000000074505806\n",
      "Episode: 8 Score: 0.30000000447034836\n",
      "Episode: 9 Score: 0.4000000059604645\n",
      "Episode: 10 Score: 2.600000038743019\n",
      "Episode: 11 Score: 1.8000000268220901\n",
      "Episode: 12 Score: 2.600000038743019\n",
      "Episode: 13 Score: 2.7000000402331352\n",
      "Episode: 14 Score: 0.5000000074505806\n",
      "Episode: 15 Score: 0.4000000059604645\n",
      "Episode: 16 Score: 2.600000038743019\n",
      "Episode: 17 Score: 2.7000000402331352\n",
      "Episode: 18 Score: 2.600000038743019\n",
      "Episode: 19 Score: 2.7000000402331352\n",
      "Episode: 20 Score: 0.20000000298023224\n",
      "Episode: 21 Score: 0.30000000447034836\n",
      "Episode: 22 Score: 1.600000023841858\n",
      "Episode: 23 Score: 2.600000038743019\n",
      "Episode: 24 Score: 1.8000000268220901\n",
      "Episode: 25 Score: 0.6000000089406967\n",
      "Episode: 26 Score: 2.600000038743019\n",
      "Episode: 27 Score: 0.4000000059604645\n",
      "Episode: 28 Score: 2.600000038743019\n",
      "Episode: 29 Score: 2.7000000402331352\n",
      "Episode: 30 Score: 1.5000000223517418\n",
      "Episode: 31 Score: 1.4000000208616257\n",
      "Episode: 32 Score: 1.1900000181049109\n",
      "Episode: 33 Score: 0.20000000298023224\n",
      "Episode: 34 Score: 1.4000000208616257\n",
      "Episode: 35 Score: 2.600000038743019\n",
      "Episode: 36 Score: 2.3000000342726707\n",
      "Episode: 37 Score: 0.20000000298023224\n",
      "Episode: 38 Score: 0.4000000059604645\n",
      "Episode: 39 Score: 1.5000000223517418\n",
      "Episode: 40 Score: 1.5900000240653753\n",
      "Episode: 41 Score: 0.2900000046938658\n",
      "Episode: 42 Score: 0.30000000447034836\n",
      "Episode: 43 Score: 0.6000000089406967\n",
      "Episode: 44 Score: 1.7900000270456076\n",
      "Episode: 45 Score: 0.0\n",
      "Episode: 46 Score: 2.3900000359863043\n",
      "Episode: 47 Score: 2.600000038743019\n",
      "Episode: 48 Score: 2.7000000402331352\n",
      "Episode: 49 Score: 1.2000000178813934\n",
      "Episode: 50 Score: 0.4000000059604645\n",
      "Episode: 51 Score: 1.5900000240653753\n",
      "Episode: 52 Score: 0.5000000074505806\n",
      "Episode: 53 Score: 2.600000038743019\n",
      "Episode: 54 Score: 0.7000000104308128\n",
      "Episode: 55 Score: 0.10000000149011612\n",
      "Episode: 56 Score: 0.5000000074505806\n",
      "Episode: 57 Score: 2.600000038743019\n",
      "Episode: 58 Score: 0.10000000149011612\n",
      "Episode: 59 Score: 2.600000038743019\n",
      "Episode: 60 Score: 0.9000000134110451\n",
      "Episode: 61 Score: 2.600000038743019\n",
      "Episode: 62 Score: 2.500000037252903\n",
      "Episode: 63 Score: 2.600000038743019\n",
      "Episode: 64 Score: 1.4000000208616257\n",
      "Episode: 65 Score: 1.600000023841858\n",
      "Episode: 66 Score: 2.600000038743019\n",
      "Episode: 67 Score: 2.600000038743019\n",
      "Episode: 68 Score: 2.7000000402331352\n",
      "Episode: 69 Score: 0.5000000074505806\n",
      "Episode: 70 Score: 0.6000000089406967\n",
      "Episode: 71 Score: 0.2900000046938658\n",
      "Episode: 72 Score: 0.5000000074505806\n",
      "Episode: 73 Score: 1.1000000163912773\n",
      "Episode: 74 Score: 0.4000000059604645\n",
      "Episode: 75 Score: 0.20000000298023224\n",
      "Episode: 76 Score: 2.1000000312924385\n",
      "Episode: 77 Score: 2.600000038743019\n",
      "Episode: 78 Score: 2.7000000402331352\n",
      "Episode: 79 Score: 2.2000000327825546\n",
      "Episode: 80 Score: 0.5000000074505806\n",
      "Episode: 81 Score: 2.600000038743019\n",
      "Episode: 82 Score: 0.09000000171363354\n",
      "Episode: 83 Score: 0.800000011920929\n",
      "Episode: 84 Score: 2.600000038743019\n",
      "Episode: 85 Score: 2.7000000402331352\n",
      "Episode: 86 Score: 2.600000038743019\n",
      "Episode: 87 Score: 2.2000000327825546\n",
      "Episode: 88 Score: 0.5000000074505806\n",
      "Episode: 89 Score: 0.4000000059604645\n",
      "Episode: 90 Score: 0.5000000074505806\n",
      "Episode: 91 Score: 2.600000038743019\n",
      "Episode: 92 Score: 2.7000000402331352\n",
      "Episode: 93 Score: 0.30000000447034836\n",
      "Episode: 94 Score: 2.1000000312924385\n",
      "Episode: 95 Score: 0.9000000134110451\n",
      "Episode: 96 Score: 2.600000038743019\n",
      "Episode: 97 Score: 0.4000000059604645\n",
      "Episode: 98 Score: 1.0000000149011612\n",
      "Episode: 99 Score: 0.4000000059604645\n",
      "Episode: 100 Score: 2.600000038743019\n"
     ]
    }
   ],
   "source": [
    "# load the weights from file\n",
    "#agent = Agent(state_size=state_size, action_size=action_size)\n",
    "#fromMemory = input(\"Do you want to test using network from memory? 0-Yes 1-No \")\n",
    "fromMemory = 1\n",
    "if fromMemory == \"0\":\n",
    "    print(\"Continuing from Memory...\")\n",
    "    #agent = torch.load('agent.pth',map_location=torch.device('cpu'))\n",
    "    agent.actor_local.load_state_dict(torch.load('actor_checkpoint.pth',map_location=torch.device('cpu')))\n",
    "    agent.critic_local.load_state_dict(torch.load('critic_checkpoint.pth',map_location=torch.device('cpu')))\n",
    "else:\n",
    "    print(\"Using the current trained network. If no one has previously been trained agent will act randomly.\")\n",
    "agent.actor_local.eval()\n",
    "agent.critic_local.eval()\n",
    "max_t = 1000\n",
    "scores_test = []\n",
    "\n",
    "test_episodes = 100\n",
    "for episode in range(test_episodes):\n",
    "    env_info = env.reset(train_mode=True)[brain_name]\n",
    "    states = env_info.vector_observations   # get the next state\n",
    "    scores = [0,0]\n",
    "    for t in range(max_t):\n",
    "        \n",
    "        action0 = agent.act(states[0])\n",
    "        action1 = agent.act(states[1])\n",
    "        actions = [action0,action1]\n",
    "        env_info = env.step(actions)[brain_name]\n",
    "\n",
    "        states = env_info.vector_observations   # get the next state\n",
    "        rewards = env_info.rewards                   # get the reward\n",
    "        dones = env_info.local_done\n",
    "        scores = [sum(i) for i in zip(scores, rewards)]  \n",
    "        if dones[0] is True or dones[1] is True:\n",
    "            break \n",
    "    scores_test.append(max(scores))\n",
    "    print(\"Episode: \" + str(episode+1) + \" Score: \" + str(max(scores)))\n",
    "            "
   ]
  },
  {
   "cell_type": "code",
   "execution_count": 14,
   "metadata": {},
   "outputs": [
    {
     "data": {
      "image/png": "[encoded data removed]",
      "text/plain": [
       "<Figure size 432x288 with 1 Axes>"
      ]
     },
     "metadata": {
      "needs_background": "light"
     },
     "output_type": "display_data"
    },
    {
     "name": "stdout",
     "output_type": "stream",
     "text": [
      "Avg Score Over All Episodes - 1.478200022056699\n"
     ]
    }
   ],
   "source": [
    "import matplotlib.pyplot as plt\n",
    "\n",
    "# get scores averages over x episodes\n",
    "averages_test = []\n",
    "score_sum_test = 0\n",
    "i = 1\n",
    "test_episodes_avg = 5\n",
    "for score in scores_test:\n",
    "    score_sum_test+=score\n",
    "    if i%test_episodes_avg == 0:\n",
    "        score_sum_test = score_sum_test/test_episodes_avg\n",
    "        for j in range(0,test_episodes_avg):\n",
    "            averages_test.append(score_sum_test)\n",
    "        score_sum_test=0\n",
    "    i+=1\n",
    "\n",
    "# plot the scores\n",
    "fig = plt.figure()\n",
    "ax = fig.add_subplot(111)\n",
    "plt.plot(np.arange(len(scores_test)), scores_test, label='Score per Episode')\n",
    "plt.plot(np.arange(len(averages_test)), averages_test, label='Avg Score Over ' +str(test_episodes_avg)+ ' Episodes')\n",
    "plt.ylabel('Score')\n",
    "plt.xlabel('Episode #')\n",
    "plt.legend()\n",
    "plt.show()\n",
    "\n",
    "print('Avg Score Over All Episodes - ' + str(sum(averages_test)/len(averages_test)))"
   ]
  },
  {
   "cell_type": "markdown",
   "metadata": {},
   "source": [
    "When finished, you can close the environment."
   ]
  },
  {
   "cell_type": "code",
   "execution_count": null,
   "metadata": {},
   "outputs": [],
   "source": [
    "env.close()"
   ]
  },
  {
   "cell_type": "markdown",
   "metadata": {},
   "source": [
    "### 4. It's Your Turn!\n",
    "\n",
    "Now it's your turn to train your own agent to solve the environment!  When training the environment, set `train_mode=True`, so that the line for resetting the environment looks like the following:\n",
    "```python\n",
    "env_info = env.reset(train_mode=True)[brain_name]\n",
    "```"
   ]
  }
 ],
 "metadata": {
  "kernelspec": {
   "display_name": "Python 3",
   "language": "python",
   "name": "python3"
  },
  "language_info": {
   "codemirror_mode": {
    "name": "ipython",
    "version": 3
   },
   "file_extension": ".py",
   "mimetype": "text/x-python",
   "name": "python",
   "nbconvert_exporter": "python",
   "pygments_lexer": "ipython3",
   "version": "3.6.13"
  }
 },
 "nbformat": 4,
 "nbformat_minor": 2
}
