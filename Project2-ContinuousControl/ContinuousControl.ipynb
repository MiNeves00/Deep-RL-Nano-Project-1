{
 "cells": [
  {
   "cell_type": "markdown",
   "metadata": {},
   "source": [
    "# Project 2 - Continuous Control\n",
    "\n",
    "---\n",
    "\n",
    "\n",
    "### <p style=\"text-align: center;\">Miguel Carreira Neves</p>\n",
    "<p style=\"text-align: center;\">22/03/2022</p>\n",
    "\n",
    "---\n",
    "\n",
    "This notebook is a proposed solution using Unity ML-Agents environment for the first project of the [Deep Reinforcement Learning Nanodegree](https://www.udacity.com/course/deep-reinforcement-learning-nanodegree--nd893).\n",
    "\n",
    "For a detailed description of **how to run** this project and all dependencies needed check the `README.md`.\n",
    "\n",
    "For more information and **implementation details** check the `Report.md`. It contains information about the network description, the agent details, interpretation of obtained results and possible future work ideas .\n",
    "\n",
    "### 1. Start the Environment\n",
    "\n",
    "We begin by importing some necessary packages.  If the code cell below returns an error, please revisit the project instructions to double-check that you have installed all necessary dependencies."
   ]
  },
  {
   "cell_type": "code",
   "execution_count": 2,
   "metadata": {},
   "outputs": [
    {
     "name": "stdout",
     "output_type": "stream",
     "text": [
      "3.6.13 |Anaconda, Inc.| (default, Jun  4 2021, 14:25:59) \n",
      "[GCC 7.5.0]\n"
     ]
    }
   ],
   "source": [
    "from unityagents import UnityEnvironment\n",
    "import numpy as np\n",
    "import random\n",
    "from collections import namedtuple, deque\n",
    "\n",
    "import torch\n",
    "import torch.nn as nn\n",
    "import torch.nn.functional as F\n",
    "import torch.optim as optim\n",
    "\n",
    "from ddpg_agent import Agent\n",
    "\n",
    "import sys\n",
    "print (sys.version) # Python Version"
   ]
  },
  {
   "cell_type": "markdown",
   "metadata": {},
   "source": [
    "Choose between Single or Multi Agent enviroment"
   ]
  },
  {
   "cell_type": "code",
   "execution_count": 3,
   "metadata": {},
   "outputs": [
    {
     "name": "stderr",
     "output_type": "stream",
     "text": [
      "INFO:unityagents:\n",
      "'Academy' started successfully!\n",
      "Unity Academy name: Academy\n",
      "        Number of Brains: 1\n",
      "        Number of External Brains : 1\n",
      "        Lesson number : 0\n",
      "        Reset Parameters :\n",
      "\t\tgoal_size -> 5.0\n",
      "\t\tgoal_speed -> 1.0\n",
      "Unity brain name: ReacherBrain\n",
      "        Number of Visual Observations (per agent): 0\n",
      "        Vector Observation space type: continuous\n",
      "        Vector Observation space size (per agent): 33\n",
      "        Number of stacked Vector Observation: 1\n",
      "        Vector Action space type: continuous\n",
      "        Vector Action space size (per agent): 4\n",
      "        Vector Action descriptions: , , , \n"
     ]
    }
   ],
   "source": [
    "env = UnityEnvironment(file_name=\"./Reacher_Linux_single_agent/Reacher.x86_64\")"
   ]
  },
  {
   "cell_type": "markdown",
   "metadata": {},
   "source": [
    "Environments contain **_brains_** which are responsible for deciding the actions of their associated agents. Here we check for the first brain available, and set it as the default brain we will be controlling from Python."
   ]
  },
  {
   "cell_type": "code",
   "execution_count": 4,
   "metadata": {},
   "outputs": [],
   "source": [
    "# get the default brain\n",
    "brain_name = env.brain_names[0]\n",
    "brain = env.brains[brain_name]"
   ]
  },
  {
   "cell_type": "markdown",
   "metadata": {},
   "source": [
    "### 2. Examine the State and Action Spaces\n",
    "\n",
    "The simulation contains a single agent that navigates a large environment.  At each time step, it has four actions at its disposal:\n",
    "- `0` - walk forward \n",
    "- `1` - walk backward\n",
    "- `2` - turn left\n",
    "- `3` - turn right\n",
    "\n",
    "The state space has `37` dimensions and contains the agent's velocity, along with ray-based perception of objects around agent's forward direction.  A reward of `+1` is provided for collecting a yellow banana, and a reward of `-1` is provided for collecting a blue banana. \n",
    "\n",
    "Run the code cell below to print some information about the environment."
   ]
  },
  {
   "cell_type": "code",
   "execution_count": 5,
   "metadata": {},
   "outputs": [
    {
     "name": "stdout",
     "output_type": "stream",
     "text": [
      "Number of agents: 1\n",
      "Size of each action: 4\n",
      "There are 1 agents. Each observes a state with length: 33\n",
      "The state for the first agent looks like: [ 0.00000000e+00 -4.00000000e+00  0.00000000e+00  1.00000000e+00\n",
      " -0.00000000e+00 -0.00000000e+00 -4.37113883e-08  0.00000000e+00\n",
      "  0.00000000e+00  0.00000000e+00  0.00000000e+00  0.00000000e+00\n",
      "  0.00000000e+00  0.00000000e+00 -1.00000000e+01  0.00000000e+00\n",
      "  1.00000000e+00 -0.00000000e+00 -0.00000000e+00 -4.37113883e-08\n",
      "  0.00000000e+00  0.00000000e+00  0.00000000e+00  0.00000000e+00\n",
      "  0.00000000e+00  0.00000000e+00  5.75471878e+00 -1.00000000e+00\n",
      "  5.55726671e+00  0.00000000e+00  1.00000000e+00  0.00000000e+00\n",
      " -1.68164849e-01]\n"
     ]
    }
   ],
   "source": [
    "# reset the environment\n",
    "env_info = env.reset(train_mode=True)[brain_name]\n",
    "\n",
    "# number of agents\n",
    "num_agents = len(env_info.agents)\n",
    "print('Number of agents:', num_agents)\n",
    "\n",
    "# size of each action\n",
    "action_size = brain.vector_action_space_size\n",
    "print('Size of each action:', action_size)\n",
    "\n",
    "# examine the state space \n",
    "states = env_info.vector_observations\n",
    "state_size = states.shape[1]\n",
    "print('There are {} agents. Each observes a state with length: {}'.format(states.shape[0], state_size))\n",
    "print('The state for the first agent looks like:', states[0])"
   ]
  },
  {
   "cell_type": "markdown",
   "metadata": {},
   "source": [
    "### 2.1 Take Random Actions in the Environment\n",
    "\n",
    "In the next code cell, you will learn how to use the Python API to control the agent and receive feedback from the environment.\n",
    "\n",
    "Note that **in this coding environment, you will not be able to watch the agents while they are training**, and you should set `train_mode=True` to restart the environment."
   ]
  },
  {
   "cell_type": "code",
   "execution_count": 6,
   "metadata": {},
   "outputs": [
    {
     "name": "stdout",
     "output_type": "stream",
     "text": [
      "Total score (averaged over agents) this episode: 0.0\n"
     ]
    }
   ],
   "source": [
    "env_info = env.reset(train_mode=True)[brain_name]      # reset the environment    \n",
    "states = env_info.vector_observations                  # get the current state (for each agent)\n",
    "scores = np.zeros(num_agents)                          # initialize the score (for each agent)\n",
    "while True:\n",
    "    actions = np.random.randn(num_agents, action_size) # select an action (for each agent)\n",
    "    actions = np.clip(actions, -1, 1)                  # all actions between -1 and 1\n",
    "    env_info = env.step(actions)[brain_name]           # send all actions to tne environment\n",
    "    next_states = env_info.vector_observations         # get next state (for each agent)\n",
    "    rewards = env_info.rewards                         # get reward (for each agent)\n",
    "    dones = env_info.local_done                        # see if episode finished\n",
    "    scores += env_info.rewards                         # update the score (for each agent)\n",
    "    states = next_states                               # roll over states to next time step\n",
    "    if np.any(dones):                                  # exit loop if episode finished\n",
    "        break\n",
    "print('Total score (averaged over agents) this episode: {}'.format(np.mean(scores)))"
   ]
  },
  {
   "cell_type": "markdown",
   "metadata": {},
   "source": [
    "### 3.1 Runner"
   ]
  },
  {
   "cell_type": "code",
   "execution_count": 7,
   "metadata": {},
   "outputs": [],
   "source": [
    "def runner(n_episodes=2000, max_t=1000, eps_start=1.0, eps_end=0.01, eps_decay=0.995, score_obj=30):\n",
    "    \"\"\"Deep Q-Learning.\n",
    "    \n",
    "    Params\n",
    "    ======\n",
    "        n_episodes (int): maximum number of training episodes\n",
    "        max_t (int): maximum number of timesteps per episode\n",
    "        eps_start (float): starting value of epsilon, for epsilon-greedy action selection\n",
    "        eps_end (float): minimum value of epsilon\n",
    "        eps_decay (float): multiplicative factor (per episode) for decreasing epsilon\n",
    "        score_obj (int): score objective to stop at when average is reached and save model\n",
    "    \"\"\"\n",
    "    scores = []                        # list containing scores from each episode\n",
    "    scores_window = deque(maxlen=100)  # last 100 scores\n",
    "    eps = eps_start                    # initialize epsilon\n",
    "    exit = False\n",
    "    for i_episode in range(1, n_episodes+1):\n",
    "        # reset the environment\n",
    "        env_info = env.reset(train_mode=True)[brain_name]\n",
    "        state = env_info.vector_observations[0]\n",
    "        score = 0\n",
    "        agent.next_episode(i_episode)\n",
    "        for t in range(max_t):\n",
    "            action = agent.act(state)\n",
    "            env_info = env.step(action)[brain_name]\n",
    "            next_state = env_info.vector_observations[0]   # get the next state\n",
    "            reward = env_info.rewards[0]                   # get the reward\n",
    "            done = env_info.local_done[0]\n",
    "            agent.step(state, action, reward, next_state, done)\n",
    "            state = next_state\n",
    "            score += reward\n",
    "            if done:\n",
    "                break \n",
    "        scores_window.append(score)       # save most recent score\n",
    "        scores.append(score)              # save most recent score\n",
    "        eps = max(eps_end, eps_decay*eps) # decrease epsilon\n",
    "        print('\\rEpisode {}\\tScore: {:.2f}'.format(i_episode, np.mean(scores_window)), end=\"\")\n",
    "        if i_episode % 100 == 0:\n",
    "            print('\\rEpisode {}\\tAverage Score: {:.2f}'.format(i_episode, np.mean(scores_window)))\n",
    "            #torch.save(agent, 'agent_checkpoint.pth')\n",
    "            #continueTrain = input('\\Do you want to continue? 0-Yes 1-No')\n",
    "            #if continueTrain == \"1\":\n",
    "                #exit = True\n",
    "        if np.mean(scores_window)>=score_obj or exit is True:\n",
    "            print('\\nEnvironment solved in {:d} episodes!\\tAverage Score: {:.2f}'.format(i_episode-100, np.mean(scores_window)))\n",
    "            #torch.save(agent.qnetwork_local.state_dict(), 'checkpoint.pth')\n",
    "            torch.save(agent.actor_local.state_dict(), 'actor_checkpoint.pth')\n",
    "            torch.save(agent.critic_local.state_dict(), 'critic_checkpoint.pth')\n",
    "            #torch.save(agent, 'agent_checkpoint.pth')\n",
    "            '''\n",
    "            torch.save({\n",
    "            'i_episode': i_episode,\n",
    "            'actor_state_dict': agent.actor_local.state_dict(),\n",
    "            'actor_optimizer_state_dict': agent.actor_optimizer.state_dict(),\n",
    "            'actor_loss': agent.actor_loss,\n",
    "            'critic_state_dict': agent.critic_local,\n",
    "            'critic_optimizer_state_dict': agent.critic_optimizer.state_dict(),\n",
    "            'critic_loss': agent.critic_loss,\n",
    "            'replay_buffer': agent.memory.memory\n",
    "            }, 'agent.pth')\n",
    "            '''\n",
    "            break\n",
    "    torch.save(agent.actor_local.state_dict(), 'actor_checkpoint.pth')\n",
    "    torch.save(agent.critic_local.state_dict(), 'critic_checkpoint.pth')\n",
    "    return scores"
   ]
  },
  {
   "cell_type": "markdown",
   "metadata": {},
   "source": [
    "### 3.3 Initiate the Agents"
   ]
  },
  {
   "cell_type": "code",
   "execution_count": 8,
   "metadata": {},
   "outputs": [
    {
     "name": "stdout",
     "output_type": "stream",
     "text": [
      "\n",
      "DDPG called with params: state_size=33 action_size=4 random_seed=0 actor_fc1_units=128 actor_fc2_units=128 critic_fc1_units=128 critic_fc2_units=128 buffer_size=100000 batch_size=128 gamma=0.99 tau=0.001 lr_actor=0.0002 lr_critic=0.0005 weight_decay=0 batch_norm=True add_ounoise=150 mu=0.0 theta=0.15 sigma=0.2 dropout_prob=0.0 \n",
      "\n"
     ]
    }
   ],
   "source": [
    "# Instantiate the Agent\n",
    "agent = Agent(state_size=state_size,action_size=action_size, random_seed=0, actor_fc1_units=128, actor_fc2_units=128,\n",
    "                critic_fc1_units=128, critic_fc2_units=128,\n",
    "                buffer_size=int(1e5), batch_size=128,\n",
    "                gamma=0.99, tau=1e-3 ,\n",
    "                lr_actor=2e-4, lr_critic=5e-4, weight_decay=0, batch_norm=True, add_ounoise=150, dropout_prob=0.)"
   ]
  },
  {
   "cell_type": "markdown",
   "metadata": {},
   "source": [
    "### 4. Train the Agent\n",
    "\n",
    "Select whether to train it from the ground up or continue training from a model in memory.\n",
    "\n",
    "If the model achieves the desired goal it will save itself onto a file and the training will finish."
   ]
  },
  {
   "cell_type": "code",
   "execution_count": 9,
   "metadata": {
    "scrolled": true
   },
   "outputs": [
    {
     "name": "stdout",
     "output_type": "stream",
     "text": [
      "Do you want to train using a network from memory? 0-Yes 1-No 1\n",
      "What is the score average over 100 episodes that you want to achieve?\n",
      "(Recommended a score of 30 when training a new network)\n",
      "30\n",
      "Training from the ground up with single agent enviroment...\n",
      "Episode 100\tAverage Score: 7.18\n",
      "Episode 200\tAverage Score: 22.38\n",
      "Episode 300\tAverage Score: 15.78\n"
     ]
    }
   ],
   "source": [
    "#agent = Agent(state_size=state_size, action_size=action_size, random_seed=0)\n",
    "\n",
    "#agent.qnetwork_local.train()\n",
    "fromMemory = input(\"Do you want to train using a network from memory? 0-Yes 1-No \")\n",
    "score_objective = int(input(\"What is the score average over 100 episodes that you want to achieve?\\n(Recommended a score of 30 when training a new network)\\n\"))\n",
    "if fromMemory == \"0\":\n",
    "    print(\"Continuing from Memory...\")\n",
    "    agent.qnetwork_local.load_state_dict(torch.load('checkpoint.pth',map_location=torch.device('cpu')))\n",
    "    agent.qnetwork_target.load_state_dict(torch.load('checkpoint.pth',map_location=torch.device('cpu')))\n",
    "    scores = dqn(eps_start=0.02, score_obj=score_objective)\n",
    "else:\n",
    "    print(\"Training from the ground up with single agent enviroment...\")\n",
    "    scores = runner(n_episodes=300, score_obj=score_objective)"
   ]
  },
  {
   "cell_type": "code",
   "execution_count": 1,
   "metadata": {
    "scrolled": true
   },
   "outputs": [
    {
     "ename": "NameError",
     "evalue": "name 'scores' is not defined",
     "output_type": "error",
     "traceback": [
      "\u001b[0;31m---------------------------------------------------------------------------\u001b[0m",
      "\u001b[0;31mNameError\u001b[0m                                 Traceback (most recent call last)",
      "\u001b[0;32m<ipython-input-1-7ef57612a90d>\u001b[0m in \u001b[0;36m<module>\u001b[0;34m\u001b[0m\n\u001b[1;32m      8\u001b[0m \u001b[0mi\u001b[0m \u001b[0;34m=\u001b[0m \u001b[0;36m1\u001b[0m\u001b[0;34m\u001b[0m\u001b[0;34m\u001b[0m\u001b[0m\n\u001b[1;32m      9\u001b[0m \u001b[0mx_episodes\u001b[0m \u001b[0;34m=\u001b[0m \u001b[0;36m25\u001b[0m\u001b[0;34m\u001b[0m\u001b[0;34m\u001b[0m\u001b[0m\n\u001b[0;32m---> 10\u001b[0;31m \u001b[0;32mfor\u001b[0m \u001b[0mscore\u001b[0m \u001b[0;32min\u001b[0m \u001b[0mscores\u001b[0m\u001b[0;34m:\u001b[0m\u001b[0;34m\u001b[0m\u001b[0;34m\u001b[0m\u001b[0m\n\u001b[0m\u001b[1;32m     11\u001b[0m     \u001b[0mscore_sum\u001b[0m\u001b[0;34m+=\u001b[0m\u001b[0mscore\u001b[0m\u001b[0;34m\u001b[0m\u001b[0;34m\u001b[0m\u001b[0m\n\u001b[1;32m     12\u001b[0m     \u001b[0mscore_sum_100\u001b[0m\u001b[0;34m+=\u001b[0m\u001b[0mscore\u001b[0m\u001b[0;34m\u001b[0m\u001b[0;34m\u001b[0m\u001b[0m\n",
      "\u001b[0;31mNameError\u001b[0m: name 'scores' is not defined"
     ]
    }
   ],
   "source": [
    "import matplotlib.pyplot as plt\n",
    "\n",
    "# get scores averages over x episodes\n",
    "averages_num = []\n",
    "averages_100 = []\n",
    "score_sum = 0\n",
    "score_sum_100 = 0\n",
    "i = 1\n",
    "x_episodes = 25\n",
    "for score in scores:\n",
    "    score_sum+=score\n",
    "    score_sum_100+=score\n",
    "    if i%x_episodes == 0:\n",
    "        score_sum = score_sum/x_episodes\n",
    "        for j in range(0,x_episodes):\n",
    "            averages_num.append(score_sum)\n",
    "        if i%100 == 0:\n",
    "            score_sum_100 = score_sum_100/100\n",
    "            for j in range(0,100):\n",
    "                averages_100.append(score_sum_100)\n",
    "            score_sum_100 = 0\n",
    "        score_sum=0\n",
    "    i+=1\n",
    "\n",
    "# plot the scores\n",
    "fig = plt.figure()\n",
    "ax = fig.add_subplot(111)\n",
    "plt.plot(np.arange(len(scores)), scores, label='Score per Episode')\n",
    "plt.plot(np.arange(len(averages_num)), averages_num, label='Avg Score Over ' +str(x_episodes)+ ' Episodes')\n",
    "plt.plot(np.arange(len(averages_100)), averages_100, label='Avg Score Over 100 Episodes')\n",
    "plt.ylabel('Score')\n",
    "plt.xlabel('Episode #')\n",
    "plt.legend()\n",
    "plt.show()"
   ]
  },
  {
   "cell_type": "markdown",
   "metadata": {},
   "source": [
    "### 5. Test and Watch the Agent"
   ]
  },
  {
   "cell_type": "markdown",
   "metadata": {},
   "source": [
    "See how the Agent behaves in the enviroment after being trained. Choose if you want the model to be loaded from a file or to use the one just trained."
   ]
  },
  {
   "cell_type": "code",
   "execution_count": 11,
   "metadata": {},
   "outputs": [
    {
     "name": "stdout",
     "output_type": "stream",
     "text": [
      "Do you want to test using network from memory? 0-Yes 1-No 0\n",
      "Continuing from Memory...\n",
      "Episode: 1 Score: 25.09999943897128\n",
      "Episode: 2 Score: 15.099999662488699\n",
      "Episode: 3 Score: 10.749999759718776\n",
      "Episode: 4 Score: 18.059999596327543\n",
      "Episode: 5 Score: 26.94999939762056\n",
      "Episode: 6 Score: 31.189999302849174\n",
      "Episode: 7 Score: 27.53999938443303\n",
      "Episode: 8 Score: 31.399999298155308\n",
      "Episode: 9 Score: 39.139999125152826\n",
      "Episode: 10 Score: 38.10999914817512\n",
      "Episode: 11 Score: 17.629999605938792\n",
      "Episode: 12 Score: 30.04999932833016\n",
      "Episode: 13 Score: 14.90999966673553\n",
      "Episode: 14 Score: 35.73999920114875\n",
      "Episode: 15 Score: 14.689999671652913\n",
      "Episode: 16 Score: 28.959999352693558\n",
      "Episode: 17 Score: 39.23999912291765\n",
      "Episode: 18 Score: 17.279999613761902\n",
      "Episode: 19 Score: 11.359999746084213\n",
      "Episode: 20 Score: 19.269999569281936\n",
      "Episode: 21 Score: 13.299999702721834\n",
      "Episode: 22 Score: 12.789999714121222\n",
      "Episode: 23 Score: 10.139999773353338\n",
      "Episode: 24 Score: 29.0499993506819\n",
      "Episode: 25 Score: 15.849999645724893\n",
      "Episode: 26 Score: 13.299999702721834\n",
      "Episode: 27 Score: 25.499999430030584\n",
      "Episode: 28 Score: 17.319999612867832\n",
      "Episode: 29 Score: 13.0899997074157\n",
      "Episode: 30 Score: 17.869999600574374\n",
      "Episode: 31 Score: 30.499999318271875\n",
      "Episode: 32 Score: 27.209999391809106\n",
      "Episode: 33 Score: 20.189999548718333\n",
      "Episode: 34 Score: 17.899999599903822\n",
      "Episode: 35 Score: 11.759999737143517\n",
      "Episode: 36 Score: 28.959999352693558\n",
      "Episode: 37 Score: 8.149999817833304\n",
      "Episode: 38 Score: 20.549999540671706\n",
      "Episode: 39 Score: 12.149999728426337\n",
      "Episode: 40 Score: 27.7299993801862\n",
      "Episode: 41 Score: 12.329999724403024\n",
      "Episode: 42 Score: 13.679999694228172\n",
      "Episode: 43 Score: 35.46999920718372\n",
      "Episode: 44 Score: 18.229999592527747\n",
      "Episode: 45 Score: 30.259999323636293\n",
      "Episode: 46 Score: 15.499999653548002\n",
      "Episode: 47 Score: 31.239999301731586\n",
      "Episode: 48 Score: 14.759999670088291\n",
      "Episode: 49 Score: 13.459999699145555\n",
      "Episode: 50 Score: 11.729999737814069\n",
      "Episode: 51 Score: 38.509999139234424\n",
      "Episode: 52 Score: 38.44999914057553\n",
      "Episode: 53 Score: 31.119999304413795\n",
      "Episode: 54 Score: 32.02999928407371\n",
      "Episode: 55 Score: 14.889999667182565\n",
      "Episode: 56 Score: 16.49999963119626\n",
      "Episode: 57 Score: 29.419999342411757\n",
      "Episode: 58 Score: 19.859999556094408\n",
      "Episode: 59 Score: 12.409999722614884\n",
      "Episode: 60 Score: 17.369999611750245\n",
      "Episode: 61 Score: 32.45999927446246\n",
      "Episode: 62 Score: 17.989999597892165\n",
      "Episode: 63 Score: 39.27999912202358\n",
      "Episode: 64 Score: 24.81999944522977\n",
      "Episode: 65 Score: 35.769999200478196\n",
      "Episode: 66 Score: 11.199999749660492\n",
      "Episode: 67 Score: 5.18999988399446\n",
      "Episode: 68 Score: 17.259999614208937\n",
      "Episode: 69 Score: 22.68999949283898\n",
      "Episode: 70 Score: 12.789999714121222\n",
      "Episode: 71 Score: 32.94999926351011\n",
      "Episode: 72 Score: 17.169999616220593\n",
      "Episode: 73 Score: 24.50999945215881\n",
      "Episode: 74 Score: 16.869999622926116\n",
      "Episode: 75 Score: 27.80999937839806\n",
      "Episode: 76 Score: 17.129999617114663\n",
      "Episode: 77 Score: 5.8499998692423105\n",
      "Episode: 78 Score: 19.62999956123531\n",
      "Episode: 79 Score: 14.629999672994018\n",
      "Episode: 80 Score: 8.609999807551503\n",
      "Episode: 81 Score: 16.489999631419778\n",
      "Episode: 82 Score: 14.629999672994018\n",
      "Episode: 83 Score: 13.139999706298113\n",
      "Episode: 84 Score: 29.15999934822321\n",
      "Episode: 85 Score: 18.189999593421817\n",
      "Episode: 86 Score: 25.0899994391948\n",
      "Episode: 87 Score: 34.72999922372401\n",
      "Episode: 88 Score: 32.51999927312136\n",
      "Episode: 89 Score: 12.749999715015292\n",
      "Episode: 90 Score: 19.449999565258622\n",
      "Episode: 91 Score: 29.12999934889376\n",
      "Episode: 92 Score: 23.529999474063516\n",
      "Episode: 93 Score: 28.709999358281493\n",
      "Episode: 94 Score: 12.759999714791775\n",
      "Episode: 95 Score: 19.7499995585531\n",
      "Episode: 96 Score: 28.409999364987016\n",
      "Episode: 97 Score: 13.849999690428376\n",
      "Episode: 98 Score: 27.789999378845096\n",
      "Episode: 99 Score: 29.229999346658587\n",
      "Episode: 100 Score: 26.249999413266778\n"
     ]
    }
   ],
   "source": [
    "# load the weights from file\n",
    "#agent = Agent(state_size=state_size, action_size=action_size)\n",
    "fromMemory = input(\"Do you want to test using network from memory? 0-Yes 1-No \")\n",
    "if fromMemory == \"0\":\n",
    "    print(\"Continuing from Memory...\")\n",
    "    #agent = torch.load('agent.pth',map_location=torch.device('cpu'))\n",
    "    agent.actor_local.load_state_dict(torch.load('actor_checkpoint.pth',map_location=torch.device('cpu')))\n",
    "    agent.critic_local.load_state_dict(torch.load('critic_checkpoint.pth',map_location=torch.device('cpu')))\n",
    "else:\n",
    "    print(\"Using the current trained network. If no one has previously been trained agent will act randomly.\")\n",
    "agent.actor_local.eval()\n",
    "agent.critic_local.eval()\n",
    "max_t = 1000\n",
    "scores_test = []\n",
    "\n",
    "test_episodes = 100\n",
    "for episode in range(test_episodes):\n",
    "    env_info = env.reset(train_mode=False)[brain_name]\n",
    "    state = env_info.vector_observations[0]   # get the next state\n",
    "    score = 0\n",
    "    for t in range(max_t):\n",
    "        \n",
    "        action = agent.act(state)\n",
    "        env_info = env.step(action)[brain_name]\n",
    "\n",
    "        state = env_info.vector_observations[0]   # get the next state\n",
    "        reward = env_info.rewards[0]                   # get the reward\n",
    "        done = env_info.local_done[0]\n",
    "        score += reward\n",
    "        if done:\n",
    "            break \n",
    "    scores_test.append(score)\n",
    "    print(\"Episode: \" + str(episode+1) + \" Score: \" + str(score))\n",
    "            "
   ]
  },
  {
   "cell_type": "code",
   "execution_count": 12,
   "metadata": {},
   "outputs": [
    {
     "data": {
      "image/png": "[encoded data removed]",
      "text/plain": [
       "<Figure size 432x288 with 1 Axes>"
      ]
     },
     "metadata": {
      "needs_background": "light"
     },
     "output_type": "display_data"
    },
    {
     "name": "stdout",
     "output_type": "stream",
     "text": [
      "Avg Score Over All Episodes - 21.731699514258654\n"
     ]
    }
   ],
   "source": [
    "import matplotlib.pyplot as plt\n",
    "\n",
    "# get scores averages over x episodes\n",
    "averages_test = []\n",
    "score_sum_test = 0\n",
    "i = 1\n",
    "test_episodes_avg = 5\n",
    "for score in scores_test:\n",
    "    score_sum_test+=score\n",
    "    if i%test_episodes_avg == 0:\n",
    "        score_sum_test = score_sum_test/test_episodes_avg\n",
    "        for j in range(0,test_episodes_avg):\n",
    "            averages_test.append(score_sum_test)\n",
    "        score_sum_test=0\n",
    "    i+=1\n",
    "\n",
    "# plot the scores\n",
    "fig = plt.figure()\n",
    "ax = fig.add_subplot(111)\n",
    "plt.plot(np.arange(len(scores_test)), scores_test, label='Score per Episode')\n",
    "plt.plot(np.arange(len(averages_test)), averages_test, label='Avg Score Over ' +str(test_episodes_avg)+ ' Episodes')\n",
    "plt.ylabel('Score')\n",
    "plt.xlabel('Episode #')\n",
    "plt.legend()\n",
    "plt.show()\n",
    "\n",
    "print('Avg Score Over All Episodes - ' + str(sum(averages_test)/len(averages_test)))"
   ]
  },
  {
   "cell_type": "code",
   "execution_count": 17,
   "metadata": {},
   "outputs": [
    {
     "ename": "RuntimeError",
     "evalue": "cuda runtime error (4) : unspecified launch failure at /opt/conda/conda-bld/pytorch_1544174967633/work/torch/csrc/generic/serialization.cpp:15",
     "output_type": "error",
     "traceback": [
      "\u001b[0;31m---------------------------------------------------------------------------\u001b[0m",
      "\u001b[0;31mRuntimeError\u001b[0m                              Traceback (most recent call last)",
      "\u001b[0;32m<ipython-input-17-1f9380ab24e4>\u001b[0m in \u001b[0;36m<module>\u001b[0;34m\u001b[0m\n\u001b[0;32m----> 1\u001b[0;31m \u001b[0mtorch\u001b[0m\u001b[0;34m.\u001b[0m\u001b[0msave\u001b[0m\u001b[0;34m(\u001b[0m\u001b[0magent\u001b[0m\u001b[0;34m.\u001b[0m\u001b[0mactor_local\u001b[0m\u001b[0;34m.\u001b[0m\u001b[0mstate_dict\u001b[0m\u001b[0;34m(\u001b[0m\u001b[0;34m)\u001b[0m\u001b[0;34m,\u001b[0m \u001b[0;34m'actor_checkpoint.pth'\u001b[0m\u001b[0;34m)\u001b[0m\u001b[0;34m\u001b[0m\u001b[0;34m\u001b[0m\u001b[0m\n\u001b[0m\u001b[1;32m      2\u001b[0m \u001b[0mtorch\u001b[0m\u001b[0;34m.\u001b[0m\u001b[0msave\u001b[0m\u001b[0;34m(\u001b[0m\u001b[0magent\u001b[0m\u001b[0;34m.\u001b[0m\u001b[0mcritic_local\u001b[0m\u001b[0;34m.\u001b[0m\u001b[0mstate_dict\u001b[0m\u001b[0;34m(\u001b[0m\u001b[0;34m)\u001b[0m\u001b[0;34m,\u001b[0m \u001b[0;34m'critic_checkpoint.pth'\u001b[0m\u001b[0;34m)\u001b[0m\u001b[0;34m\u001b[0m\u001b[0;34m\u001b[0m\u001b[0m\n",
      "\u001b[0;32m~/anaconda3/envs/drlnd/lib/python3.6/site-packages/torch/serialization.py\u001b[0m in \u001b[0;36msave\u001b[0;34m(obj, f, pickle_module, pickle_protocol)\u001b[0m\n\u001b[1;32m    216\u001b[0m         \u001b[0;34m>>\u001b[0m\u001b[0;34m>\u001b[0m \u001b[0mtorch\u001b[0m\u001b[0;34m.\u001b[0m\u001b[0msave\u001b[0m\u001b[0;34m(\u001b[0m\u001b[0mx\u001b[0m\u001b[0;34m,\u001b[0m \u001b[0mbuffer\u001b[0m\u001b[0;34m)\u001b[0m\u001b[0;34m\u001b[0m\u001b[0;34m\u001b[0m\u001b[0m\n\u001b[1;32m    217\u001b[0m     \"\"\"\n\u001b[0;32m--> 218\u001b[0;31m     \u001b[0;32mreturn\u001b[0m \u001b[0m_with_file_like\u001b[0m\u001b[0;34m(\u001b[0m\u001b[0mf\u001b[0m\u001b[0;34m,\u001b[0m \u001b[0;34m\"wb\"\u001b[0m\u001b[0;34m,\u001b[0m \u001b[0;32mlambda\u001b[0m \u001b[0mf\u001b[0m\u001b[0;34m:\u001b[0m \u001b[0m_save\u001b[0m\u001b[0;34m(\u001b[0m\u001b[0mobj\u001b[0m\u001b[0;34m,\u001b[0m \u001b[0mf\u001b[0m\u001b[0;34m,\u001b[0m \u001b[0mpickle_module\u001b[0m\u001b[0;34m,\u001b[0m \u001b[0mpickle_protocol\u001b[0m\u001b[0;34m)\u001b[0m\u001b[0;34m)\u001b[0m\u001b[0;34m\u001b[0m\u001b[0;34m\u001b[0m\u001b[0m\n\u001b[0m\u001b[1;32m    219\u001b[0m \u001b[0;34m\u001b[0m\u001b[0m\n\u001b[1;32m    220\u001b[0m \u001b[0;34m\u001b[0m\u001b[0m\n",
      "\u001b[0;32m~/anaconda3/envs/drlnd/lib/python3.6/site-packages/torch/serialization.py\u001b[0m in \u001b[0;36m_with_file_like\u001b[0;34m(f, mode, body)\u001b[0m\n\u001b[1;32m    141\u001b[0m         \u001b[0mf\u001b[0m \u001b[0;34m=\u001b[0m \u001b[0mopen\u001b[0m\u001b[0;34m(\u001b[0m\u001b[0mf\u001b[0m\u001b[0;34m,\u001b[0m \u001b[0mmode\u001b[0m\u001b[0;34m)\u001b[0m\u001b[0;34m\u001b[0m\u001b[0;34m\u001b[0m\u001b[0m\n\u001b[1;32m    142\u001b[0m     \u001b[0;32mtry\u001b[0m\u001b[0;34m:\u001b[0m\u001b[0;34m\u001b[0m\u001b[0;34m\u001b[0m\u001b[0m\n\u001b[0;32m--> 143\u001b[0;31m         \u001b[0;32mreturn\u001b[0m \u001b[0mbody\u001b[0m\u001b[0;34m(\u001b[0m\u001b[0mf\u001b[0m\u001b[0;34m)\u001b[0m\u001b[0;34m\u001b[0m\u001b[0;34m\u001b[0m\u001b[0m\n\u001b[0m\u001b[1;32m    144\u001b[0m     \u001b[0;32mfinally\u001b[0m\u001b[0;34m:\u001b[0m\u001b[0;34m\u001b[0m\u001b[0;34m\u001b[0m\u001b[0m\n\u001b[1;32m    145\u001b[0m         \u001b[0;32mif\u001b[0m \u001b[0mnew_fd\u001b[0m\u001b[0;34m:\u001b[0m\u001b[0;34m\u001b[0m\u001b[0;34m\u001b[0m\u001b[0m\n",
      "\u001b[0;32m~/anaconda3/envs/drlnd/lib/python3.6/site-packages/torch/serialization.py\u001b[0m in \u001b[0;36m<lambda>\u001b[0;34m(f)\u001b[0m\n\u001b[1;32m    216\u001b[0m         \u001b[0;34m>>\u001b[0m\u001b[0;34m>\u001b[0m \u001b[0mtorch\u001b[0m\u001b[0;34m.\u001b[0m\u001b[0msave\u001b[0m\u001b[0;34m(\u001b[0m\u001b[0mx\u001b[0m\u001b[0;34m,\u001b[0m \u001b[0mbuffer\u001b[0m\u001b[0;34m)\u001b[0m\u001b[0;34m\u001b[0m\u001b[0;34m\u001b[0m\u001b[0m\n\u001b[1;32m    217\u001b[0m     \"\"\"\n\u001b[0;32m--> 218\u001b[0;31m     \u001b[0;32mreturn\u001b[0m \u001b[0m_with_file_like\u001b[0m\u001b[0;34m(\u001b[0m\u001b[0mf\u001b[0m\u001b[0;34m,\u001b[0m \u001b[0;34m\"wb\"\u001b[0m\u001b[0;34m,\u001b[0m \u001b[0;32mlambda\u001b[0m \u001b[0mf\u001b[0m\u001b[0;34m:\u001b[0m \u001b[0m_save\u001b[0m\u001b[0;34m(\u001b[0m\u001b[0mobj\u001b[0m\u001b[0;34m,\u001b[0m \u001b[0mf\u001b[0m\u001b[0;34m,\u001b[0m \u001b[0mpickle_module\u001b[0m\u001b[0;34m,\u001b[0m \u001b[0mpickle_protocol\u001b[0m\u001b[0;34m)\u001b[0m\u001b[0;34m)\u001b[0m\u001b[0;34m\u001b[0m\u001b[0;34m\u001b[0m\u001b[0m\n\u001b[0m\u001b[1;32m    219\u001b[0m \u001b[0;34m\u001b[0m\u001b[0m\n\u001b[1;32m    220\u001b[0m \u001b[0;34m\u001b[0m\u001b[0m\n",
      "\u001b[0;32m~/anaconda3/envs/drlnd/lib/python3.6/site-packages/torch/serialization.py\u001b[0m in \u001b[0;36m_save\u001b[0;34m(obj, f, pickle_module, pickle_protocol)\u001b[0m\n\u001b[1;32m    295\u001b[0m     \u001b[0mf\u001b[0m\u001b[0;34m.\u001b[0m\u001b[0mflush\u001b[0m\u001b[0;34m(\u001b[0m\u001b[0;34m)\u001b[0m\u001b[0;34m\u001b[0m\u001b[0;34m\u001b[0m\u001b[0m\n\u001b[1;32m    296\u001b[0m     \u001b[0;32mfor\u001b[0m \u001b[0mkey\u001b[0m \u001b[0;32min\u001b[0m \u001b[0mserialized_storage_keys\u001b[0m\u001b[0;34m:\u001b[0m\u001b[0;34m\u001b[0m\u001b[0;34m\u001b[0m\u001b[0m\n\u001b[0;32m--> 297\u001b[0;31m         \u001b[0mserialized_storages\u001b[0m\u001b[0;34m[\u001b[0m\u001b[0mkey\u001b[0m\u001b[0;34m]\u001b[0m\u001b[0;34m.\u001b[0m\u001b[0m_write_file\u001b[0m\u001b[0;34m(\u001b[0m\u001b[0mf\u001b[0m\u001b[0;34m,\u001b[0m \u001b[0m_should_read_directly\u001b[0m\u001b[0;34m(\u001b[0m\u001b[0mf\u001b[0m\u001b[0;34m)\u001b[0m\u001b[0;34m)\u001b[0m\u001b[0;34m\u001b[0m\u001b[0;34m\u001b[0m\u001b[0m\n\u001b[0m\u001b[1;32m    298\u001b[0m \u001b[0;34m\u001b[0m\u001b[0m\n\u001b[1;32m    299\u001b[0m \u001b[0;34m\u001b[0m\u001b[0m\n",
      "\u001b[0;31mRuntimeError\u001b[0m: cuda runtime error (4) : unspecified launch failure at /opt/conda/conda-bld/pytorch_1544174967633/work/torch/csrc/generic/serialization.cpp:15"
     ]
    }
   ],
   "source": [
    "torch.save(agent.actor_local.state_dict(), 'actor_checkpoint.pth')\n",
    "torch.save(agent.critic_local.state_dict(), 'critic_checkpoint.pth')"
   ]
  },
  {
   "cell_type": "code",
   "execution_count": 8,
   "metadata": {},
   "outputs": [],
   "source": [
    "env.close()"
   ]
  },
  {
   "cell_type": "markdown",
   "metadata": {},
   "source": [
    "### Congrats you finished experimenting with this Project\n",
    "\n",
    "Read the Report.md for information on Future Work and implementation details"
   ]
  },
  {
   "cell_type": "markdown",
   "metadata": {},
   "source": [
    "### 3.2 Runner Multi Agent"
   ]
  },
  {
   "cell_type": "code",
   "execution_count": 8,
   "metadata": {},
   "outputs": [],
   "source": [
    "def runner_multi(n_episodes=2000, max_t=1000, eps_start=1.0, eps_end=0.01, eps_decay=0.995, score_obj=40):\n",
    "    \"\"\"Deep Q-Learning.\n",
    "    \n",
    "    Params\n",
    "    ======\n",
    "        n_episodes (int): maximum number of training episodes\n",
    "        max_t (int): maximum number of timesteps per episode\n",
    "        eps_start (float): starting value of epsilon, for epsilon-greedy action selection\n",
    "        eps_end (float): minimum value of epsilon\n",
    "        eps_decay (float): multiplicative factor (per episode) for decreasing epsilon\n",
    "        score_obj (int): score objective to stop at when average is reached and save model\n",
    "    \"\"\"\n",
    "    scores = []                        # list containing scores from each episode\n",
    "    scores_window = deque(maxlen=100)  # last 100 scores\n",
    "    eps = eps_start                    # initialize epsilon\n",
    "    exit = False\n",
    "    for i_episode in range(1, n_episodes+1):\n",
    "        # reset the environment\n",
    "        env_info = env.reset(train_mode=True)[brain_name]\n",
    "        states = env_info.vector_observations                  # get the current state (for each agent)\n",
    "        scores = np.zeros(num_agents)                          # initialize the score (for each agent)\n",
    "        for t in range(max_t):   \n",
    "            actions = []\n",
    "            for agent,state in zip(agents,states): # select an action (for each agent)\n",
    "                action = agent.act(state, eps) \n",
    "                actions.append(action)\n",
    "            env_info = env.step(actions)[brain_name]#      send all actions to tne environment\n",
    "            next_states = env_info.vector_observations         # get next state (for each agent)\n",
    "            rewards = env_info.rewards                   # get reward (for each agent)\n",
    "            dones = env_info.local_done                        # see if episode finished\n",
    "            for agent,state,action,reward,next_state,done in zip(agents,states,actions,rewards,next_states,dones):\n",
    "                agent.step(state, action, reward, next_state, done) # learn step (for each agent)\n",
    "            states = next_states\n",
    "            scores += rewards\n",
    "            if np.any(dones):\n",
    "                break \n",
    "        avg_scores = scores / len(agents) # average score of all agents\n",
    "        score = sum_(avg_scores,len(avg_scores))\n",
    "        scores_window.append(score)       # save most recent score\n",
    "        scores.append(score)              # save most recent score\n",
    "        eps = max(eps_end, eps_decay*eps) # decrease epsilon\n",
    "        print('\\rEpisode {}\\tScore: {:.2f}'.format(i_episode, np.mean(scores_window)), end=\"\")\n",
    "        if i_episode % 100 == 0:\n",
    "            print('\\rEpisode {}\\tAverage Score: {:.2f}'.format(i_episode, np.mean(scores_window)))\n",
    "            continueTrain = input('\\Do you want to continue? 0-Yes 1-No')\n",
    "            if continueTrain == \"1\":\n",
    "                exit = True\n",
    "        if np.mean(scores_window)>=score_obj or exit is True:\n",
    "            print('\\nEnvironment solved in {:d} episodes!\\tAverage Score: {:.2f}'.format(i_episode-100, np.mean(scores_window)))\n",
    "            torch.save(agent.qnetwork_local.state_dict(), 'checkpoint.pth')\n",
    "            break\n",
    "    return scores"
   ]
  }
 ],
 "metadata": {
  "kernelspec": {
   "display_name": "drlnd",
   "language": "python",
   "name": "drlnd"
  },
  "language_info": {
   "codemirror_mode": {
    "name": "ipython",
    "version": 3
   },
   "file_extension": ".py",
   "mimetype": "text/x-python",
   "name": "python",
   "nbconvert_exporter": "python",
   "pygments_lexer": "ipython3",
   "version": "3.6.13"
  }
 },
 "nbformat": 4,
 "nbformat_minor": 2
}
